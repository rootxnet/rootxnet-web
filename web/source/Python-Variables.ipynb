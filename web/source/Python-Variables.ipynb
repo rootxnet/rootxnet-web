{
 "cells": [
  {
   "cell_type": "markdown",
   "metadata": {},
   "source": [
    "### Python Variables and references\n",
    "Python does not store values of it's variables, \n",
    "it stores references to the value object instead"
   ]
  },
  {
   "cell_type": "code",
   "execution_count": 1,
   "metadata": {},
   "outputs": [
    {
     "data": {
      "text/plain": [
       "str"
      ]
     },
     "execution_count": 1,
     "output_type": "execute_result",
     "metadata": {}
    }
   ],
   "source": [
    "a = \"a\" # variable a references a string object which contains the value: a\n",
    "type(a)"
   ]
  },
  {
   "cell_type": "code",
   "execution_count": 2,
   "metadata": {},
   "outputs": [
    {
     "data": {
      "text/plain": [
       "4297970952"
      ]
     },
     "execution_count": 2,
     "output_type": "execute_result",
     "metadata": {}
    }
   ],
   "source": [
    "id(a) # let's check the identity of a"
   ]
  },
  {
   "cell_type": "code",
   "execution_count": 3,
   "metadata": {},
   "outputs": [
    {
     "name": "stdout",
     "output_type": "stream",
     "text": [
      "4297970952\n",
      "4297970952\n",
      "True\n",
      "True\n"
     ]
    }
   ],
   "source": [
    "b = a # let's create another reference\n",
    "print id(b)\n",
    "print id(a)\n",
    "print a == b # value coparison\n",
    "print a is b # identity comparison"
   ]
  },
  {
   "cell_type": "code",
   "execution_count": 4,
   "metadata": {},
   "outputs": [
    {
     "name": "stdout",
     "output_type": "stream",
     "text": [
      "4297970992\n",
      "a\n",
      "4297970952\n"
     ]
    }
   ],
   "source": [
    "# Because the string object is immutable, changing the \"value\" of b won't affect the \"value\" of a\n",
    "b = \"b\"\n",
    "print id(b)\n",
    "print a\n",
    "print id(a)"
   ]
  },
  {
   "cell_type": "code",
   "execution_count": 5,
   "metadata": {},
   "outputs": [
    {
     "name": "stdout",
     "output_type": "stream",
     "text": [
      "4393414208\n",
      "4393414528\n",
      "4393414208 4393414208\n"
     ]
    }
   ],
   "source": [
    "a = \"a\"\n",
    "b = \"b\"\n",
    "print id(a+b)\n",
    "print id(b+a)\n",
    "print id(a+b), id(b+a)  # Note that ID's of these objects are the same, it's because Python \n",
    "                        # first concatenates \"a\" and \"b\" into newly allocated string \"ab\".\n",
    "                        # This string is then passed to id() and deallocated, since it's no \n",
    "                        # longer used. Because of the way CPython works, the next concatenation \n",
    "                        # of \"b\" and \"a\" is allocated at the same location in memory, hence the result"
   ]
  },
  {
   "cell_type": "code",
   "execution_count": 6,
   "metadata": {},
   "outputs": [
    {
     "name": "stdout",
     "output_type": "stream",
     "text": [
      "False\n"
     ]
    }
   ],
   "source": [
    "print a+b is b+a        # Here Python has to store both concatenated strings in memory at the same time,\n",
    "                        # so it can't allocate both to the same location which results in different IDs"
   ]
  },
  {
   "cell_type": "code",
   "execution_count": 7,
   "metadata": {},
   "outputs": [
    {
     "name": "stdout",
     "output_type": "stream",
     "text": [
      "ab\n",
      "False\n"
     ]
    }
   ],
   "source": [
    "print a+b\n",
    "print a+b is \"ab\"       # Although both sides evaluate to \"ab\" string, the IDs will be diffrent because \n",
    "                        # internally the a+b results in a product of BINARY_ADD, which gets a new ID.\n",
    "                        # The \"ab\" is a result of LOAD_CONST which creates an object and then all subsequent \n",
    "                        # references will point to the same object"
   ]
  },
  {
   "cell_type": "code",
   "execution_count": 8,
   "metadata": {},
   "outputs": [
    {
     "name": "stdout",
     "output_type": "stream",
     "text": [
      "True\n",
      "True\n"
     ]
    }
   ],
   "source": [
    "print 256 is 256        # Integers are immutable objects, these objects are usually cached\n",
    "a = 256\n",
    "b = 256\n",
    "print a is b"
   ]
  },
  {
   "cell_type": "code",
   "execution_count": 9,
   "metadata": {},
   "outputs": [
    {
     "name": "stdout",
     "output_type": "stream",
     "text": [
      "True\n",
      "False\n"
     ]
    }
   ],
   "source": [
    "print 257 is 257        # Python has to have both objects allocated at the same time (to evaluate the expression)\n",
    "                        # so their IDs match\n",
    "c = 257\n",
    "d = 257\n",
    "print c is d            # But they won't match if passed via reference, numbers above 256 (and strings \n",
    "                        # longer than 2 characters) are not cached internally"
   ]
  },
  {
   "cell_type": "markdown",
   "metadata": {},
   "source": [
    "### Notes on identity and mutability\n",
    "* In Python, everything is represented by objects, including code.\n",
    "* Every object has an identity, a type and value, once created, object's ID and type _never_ changes.\n",
    "* The value of some objects can change, these are called _mutable_, otherwise an object is _immutable_\n",
    "* Immutable object's value can change if the value of a mutable object it contains/references changes\n",
    "* Objects are never explicitly destroyed, unreferenced objects, hovewer, might be wiped out by the garbage collector\n",
    "* Objects which reference external resources like files should be explicitly closed (ex file.close())\n",
    "* Immutable objects of the same value are not guaranteed to have the same ID\n",
    "* Mutable objects of the same value are guaranteed to have different IDs **[] is [] => False**"
   ]
  },
  {
   "cell_type": "code",
   "execution_count": 10,
   "metadata": {},
   "outputs": [
    {
     "name": "stdout",
     "output_type": "stream",
     "text": [
      "[1, 100, 3]\n"
     ]
    }
   ],
   "source": [
    "a = [1, 2, 3]\n",
    "b = a                   # Passing the list by reference to variable b\n",
    "b[1] = 100\n",
    "# Because _list_ type is mutable and both variables reference the same list object,\n",
    "# changing b will affect the shared object and consequently the value of a\n",
    "print a"
   ]
  },
  {
   "cell_type": "code",
   "execution_count": 11,
   "metadata": {},
   "outputs": [
    {
     "name": "stdout",
     "output_type": "stream",
     "text": [
      "[1, 2, 3]\n"
     ]
    }
   ],
   "source": [
    "a = [1, 2, 3]\n",
    "b = a[:]                # This creates a shallow copy of object referenced by a\n",
    "b[1] = 100\n",
    "print a"
   ]
  },
  {
   "cell_type": "code",
   "execution_count": 12,
   "metadata": {},
   "outputs": [
    {
     "ename": "TypeError",
     "evalue": "'tuple' object does not support item assignment",
     "output_type": "error",
     "traceback": [
      "\u001b[0;31m---------------------------------------------------------------------------\u001b[0m",
      "\u001b[0;31mTypeError\u001b[0m                                 Traceback (most recent call last)",
      "\u001b[0;32m<ipython-input-12-2235965d77e9>\u001b[0m in \u001b[0;36m<module>\u001b[0;34m()\u001b[0m\n\u001b[1;32m      2\u001b[0m                         \u001b[0;31m# IDs are protected\u001b[0m\u001b[0;34m\u001b[0m\u001b[0;34m\u001b[0m\u001b[0m\n\u001b[1;32m      3\u001b[0m \u001b[0;34m\u001b[0m\u001b[0m\n\u001b[0;32m----> 4\u001b[0;31m \u001b[0ma\u001b[0m\u001b[0;34m[\u001b[0m\u001b[0;36m0\u001b[0m\u001b[0;34m]\u001b[0m \u001b[0;34m=\u001b[0m \u001b[0;34m[\u001b[0m\u001b[0;36m1\u001b[0m\u001b[0;34m,\u001b[0m \u001b[0;36m2\u001b[0m\u001b[0;34m,\u001b[0m \u001b[0;36m3\u001b[0m\u001b[0;34m]\u001b[0m        \u001b[0;31m# Trying to reference a new list object will raise **TypeError**\u001b[0m\u001b[0;34m\u001b[0m\u001b[0m\n\u001b[0m",
      "\u001b[0;31mTypeError\u001b[0m: 'tuple' object does not support item assignment"
     ]
    }
   ],
   "source": [
    "a = ([], [], [])        # Let's create a tuple of lists, the referenced objects cannot be replaced,\n",
    "                        # IDs are protected\n",
    "\n",
    "a[0] = [1, 2, 3]        # Trying to reference a new list object will raise **TypeError**"
   ]
  },
  {
   "cell_type": "code",
   "execution_count": 13,
   "metadata": {},
   "outputs": [
    {
     "name": "stdout",
     "output_type": "stream",
     "text": [
      "([], [], [])\n",
      "([1, 2], [], [])\n"
     ]
    }
   ],
   "source": [
    "print a\n",
    "a[0].extend([1, 2])     # Extending existing (mutable) object is possible\n",
    "print a"
   ]
  },
  {
   "cell_type": "code",
   "execution_count": 15,
   "metadata": {},
   "outputs": [
    {
     "name": "stdout",
     "output_type": "stream",
     "text": [
      "4393537408\n",
      "4393537408\n",
      "['Bob']\n"
     ]
    }
   ],
   "source": [
    "def foo(bar):\n",
    "    bar.append(\"Bob\")\n",
    "    print id(bar)\n",
    "    \n",
    "some_list = []\n",
    "foo(some_list)          # Passing reference to the list\n",
    "\n",
    "print id(some_list)\n",
    "print some_list         # List is a mutable object, it can be changed by any assigned variable"
   ]
  },
  {
   "cell_type": "markdown",
   "metadata": {},
   "source": [
    "### Default argument evaluation in funcitons\n",
    "* Funciton's default arguments are evaluated _once_, when the funciton is _defined_, not when it is _called_\n",
    "* If the mutable object is used as a default argument, once mutated, all subsequent calls to this function will see it mutated too\n",
    "* This functionality can be \"exploited\" to maintain a state between calls of a funciton (often used in caching functions)"
   ]
  },
  {
   "cell_type": "code",
   "execution_count": 19,
   "metadata": {},
   "outputs": [
    {
     "name": "stdout",
     "output_type": "stream",
     "text": [
      "4393535104\n",
      "[1]\n",
      "4393535104\n",
      "[1, 1]\n",
      "4393535104\n",
      "[1, 1, 1]\n"
     ]
    }
   ],
   "source": [
    "def bar(sth = []):\n",
    "    sth.append(1)\n",
    "    print id(sth)\n",
    "    print sth\n",
    "\n",
    "bar()\n",
    "bar()\n",
    "bar()"
   ]
  },
  {
   "cell_type": "markdown",
   "metadata": {},
   "source": [
    "### Copying objects\n",
    "* Assignment statements in Python do not copy objects, they create a binding/reference between a target and an object\n",
    "* For objects/collections that are mutable/contain mutable items, a copy is needed in order to change one copy without changing the other\n",
    "* A _shallow copy_ constructs a new object and then tries to copy object references found in the original\n",
    "* A _deep copy_ will create a new object and _recursively_ insert copies of all objects found in the original\n",
    "* Recursive objects (directly or indirectly referencing themselves) might cause a recursive loop while deep copying\n",
    "* Deep copy copies _everything_ which might copy objects which should not be copied but shared instead\n",
    "* Deep copying mechanism can be controlled in a class by overriding **\\_\\_deepcopy\\_\\_()** method (**\\_\\_copy\\_\\_** for shallow copy)\n",
    "* Lists can be shallow copied by assigning a slice of the entire list: **copied_list = original_list[:]**\n",
    "* Deep copying does _not_ copy types like: _module, file, socket, array_ or similar, **\\_\\_deepcopy\\_\\_()** should be overloaded to properly reinitialize these"
   ]
  },
  {
   "cell_type": "code",
   "execution_count": 44,
   "metadata": {},
   "outputs": [
    {
     "name": "stdout",
     "output_type": "stream",
     "text": [
      "4393424336 4410853408\n"
     ]
    }
   ],
   "source": [
    "import copy\n",
    "\n",
    "f = open(\"/tmp/test001.txt\", \"w\")\n",
    "obj = object()\n",
    "print id(f), id(obj)"
   ]
  },
  {
   "cell_type": "code",
   "execution_count": 45,
   "metadata": {},
   "outputs": [
    {
     "name": "stdout",
     "output_type": "stream",
     "text": [
      "4393424336 4410853408\n"
     ]
    }
   ],
   "source": [
    "a = {\"file\": f, \"foo\": obj}           # Reference objects\n",
    "print id(a[\"file\"]), id(a[\"foo\"])"
   ]
  },
  {
   "cell_type": "code",
   "execution_count": 46,
   "metadata": {},
   "outputs": [
    {
     "name": "stdout",
     "output_type": "stream",
     "text": [
      "4393424336 4410853408\n",
      "False\n"
     ]
    }
   ],
   "source": [
    "b = copy.copy(a)                      # Create a shallow copy\n",
    "print id(b[\"file\"]), id(b[\"foo\"])     # the IDs are the same as original\n",
    "print b[\"file\"].closed                # File object is still open"
   ]
  },
  {
   "cell_type": "code",
   "execution_count": 47,
   "metadata": {},
   "outputs": [
    {
     "name": "stdout",
     "output_type": "stream",
     "text": [
      "4393425056 4410853376\n",
      "True\n"
     ]
    }
   ],
   "source": [
    "c = copy.deepcopy(a)                  # Create a deep copy\n",
    "print id(c[\"file\"]), id(c[\"foo\"])     # IDs are different\n",
    "print c[\"file\"].closed                # The file object is closed"
   ]
  },
  {
   "cell_type": "code",
   "execution_count": null,
   "metadata": {},
   "outputs": [],
   "source": [
    ""
   ]
  }
 ],
 "metadata": {
  "kernelspec": {
   "display_name": "Python 2",
   "language": "python",
   "name": "python2"
  },
  "language_info": {
   "codemirror_mode": {
    "name": "ipython",
    "version": 2.0
   },
   "file_extension": ".py",
   "mimetype": "text/x-python",
   "name": "python",
   "nbconvert_exporter": "python",
   "pygments_lexer": "ipython2",
   "version": "2.7.10"
  }
 },
 "nbformat": 4,
 "nbformat_minor": 0
}