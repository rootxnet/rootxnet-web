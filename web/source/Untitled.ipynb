{
 "cells": [
  {
   "cell_type": "markdown",
   "metadata": {
    "slideshow": {
     "slide_type": "-"
    }
   },
   "source": [
    "## Exercise #2"
   ]
  },
  {
   "cell_type": "markdown",
   "metadata": {
    "slideshow": {
     "slide_type": "-"
    }
   },
   "source": [
    "### #1"
   ]
  },
  {
   "cell_type": "code",
   "execution_count": 1,
   "metadata": {
    "collapsed": true,
    "slideshow": {
     "slide_type": "-"
    }
   },
   "outputs": [],
   "source": [
    "list_a = [1, 2, 3, 4, 5]"
   ]
  },
  {
   "cell_type": "code",
   "execution_count": 2,
   "metadata": {
    "collapsed": false,
    "slideshow": {
     "slide_type": "-"
    }
   },
   "outputs": [
    {
     "ename": "IndexError",
     "evalue": "list index out of range",
     "output_type": "error",
     "traceback": [
      "\u001b[0;31m---------------------------------------------------------------------------\u001b[0m",
      "\u001b[0;31mIndexError\u001b[0m                                Traceback (most recent call last)",
      "\u001b[0;32m<ipython-input-2-ffe772b7b13b>\u001b[0m in \u001b[0;36m<module>\u001b[0;34m()\u001b[0m\n\u001b[0;32m----> 1\u001b[0;31m \u001b[0mlist_a\u001b[0m\u001b[0;34m[\u001b[0m\u001b[0;36m10\u001b[0m\u001b[0;34m]\u001b[0m\u001b[0;34m\u001b[0m\u001b[0m\n\u001b[0m",
      "\u001b[0;31mIndexError\u001b[0m: list index out of range"
     ]
    }
   ],
   "source": [
    "list_a[10]"
   ]
  },
  {
   "cell_type": "code",
   "execution_count": 3,
   "metadata": {
    "collapsed": false
   },
   "outputs": [
    {
     "data": {
      "text/plain": [
       "[]"
      ]
     },
     "execution_count": 3,
     "metadata": {},
     "output_type": "execute_result"
    }
   ],
   "source": [
    "list_a[4:1]"
   ]
  },
  {
   "cell_type": "code",
   "execution_count": 4,
   "metadata": {
    "collapsed": false
   },
   "outputs": [
    {
     "data": {
      "text/plain": [
       "[5, 4, 3, 2, 1]"
      ]
     },
     "execution_count": 4,
     "metadata": {},
     "output_type": "execute_result"
    }
   ],
   "source": [
    "list_a[::-1]"
   ]
  },
  {
   "cell_type": "code",
   "execution_count": 5,
   "metadata": {
    "collapsed": false,
    "scrolled": true
   },
   "outputs": [
    {
     "name": "stdout",
     "output_type": "stream",
     "text": [
      "[1, 2, 'x', 5]\n"
     ]
    }
   ],
   "source": [
    "list_a[2:4] = \"x\"\n",
    "print list_a"
   ]
  },
  {
   "cell_type": "markdown",
   "metadata": {},
   "source": [
    "### #2"
   ]
  },
  {
   "cell_type": "code",
   "execution_count": 6,
   "metadata": {
    "collapsed": false
   },
   "outputs": [
    {
     "name": "stdout",
     "output_type": "stream",
     "text": [
      "Bob Cat\n",
      "Cat Bob\n"
     ]
    }
   ],
   "source": [
    "var_a = \"Bob\"\n",
    "var_b = \"Cat\"\n",
    "print var_a, var_b\n",
    "var_a, var_b = var_b, var_a\n",
    "print var_a, var_b"
   ]
  },
  {
   "cell_type": "markdown",
   "metadata": {},
   "source": [
    "### #3"
   ]
  },
  {
   "cell_type": "code",
   "execution_count": 7,
   "metadata": {
    "collapsed": false
   },
   "outputs": [
    {
     "name": "stdout",
     "output_type": "stream",
     "text": [
      "[1, 2, 3, 4, 5]\n",
      "[1, 2, 3, 4, 5, 6, 7, 8]\n",
      "[1, 2, 3, 4, 5, 6, 7, 8, [9, 10, 11]]\n"
     ]
    }
   ],
   "source": [
    "list_b = [1, 2, 3, 4]\n",
    "list_b.append(5)\n",
    "print list_b\n",
    "list_b.extend([6, 7, 8])\n",
    "print list_b\n",
    "list_b.append([9, 10, 11])\n",
    "print list_b"
   ]
  },
  {
   "cell_type": "markdown",
   "metadata": {},
   "source": [
    "### #4"
   ]
  },
  {
   "cell_type": "code",
   "execution_count": 8,
   "metadata": {
    "collapsed": false
   },
   "outputs": [
    {
     "name": "stdout",
     "output_type": "stream",
     "text": [
      "[{'inner_2': [3, 4], 'inner_1': [1, 2]}, {'inner_b': [], 'inner_a': [True, False]}]\n",
      "\n",
      "{'inner_b': [], 'inner_a': [True, False]}\n",
      "\n",
      "[True, False]\n"
     ]
    }
   ],
   "source": [
    "nested_structure = [\n",
    "    {\n",
    "        \"inner_1\": [1, 2,],\n",
    "        \"inner_2\": [3, 4,]\n",
    "    },\n",
    "    {\n",
    "        \"inner_a\": [True, False],\n",
    "        \"inner_b\": [],\n",
    "    },\n",
    "]\n",
    "print nested_structure\n",
    "print\n",
    "print nested_structure[1]\n",
    "print\n",
    "print nested_structure[1][\"inner_a\"]"
   ]
  },
  {
   "cell_type": "markdown",
   "metadata": {},
   "source": [
    "### #5"
   ]
  },
  {
   "cell_type": "code",
   "execution_count": 9,
   "metadata": {
    "collapsed": true
   },
   "outputs": [],
   "source": [
    "text = \"elephant\""
   ]
  },
  {
   "cell_type": "code",
   "execution_count": 10,
   "metadata": {
    "collapsed": false
   },
   "outputs": [
    {
     "name": "stdout",
     "output_type": "stream",
     "text": [
      "hat\n"
     ]
    }
   ],
   "source": [
    "text = text[4:6] + text[-1]\n",
    "print text"
   ]
  },
  {
   "cell_type": "markdown",
   "metadata": {},
   "source": [
    "### #6"
   ]
  },
  {
   "cell_type": "code",
   "execution_count": 11,
   "metadata": {
    "collapsed": false
   },
   "outputs": [
    {
     "name": "stdout",
     "output_type": "stream",
     "text": [
      "Solid vaccum (m³)\n"
     ]
    }
   ],
   "source": [
    "invoice = {\n",
    "    \"company\": {\n",
    "        \"name\": u\"Some Company\",\n",
    "        \"address\": u\"Noneplatz 9, 81111 Munich, Germany\",\n",
    "    },\n",
    "    \"customer\": {\n",
    "        \"name\": u\"Cool Guy\",\n",
    "        \"address\": u\"Falsestraße 52d, 10111 Berlin, Germany\",\n",
    "    },\n",
    "    \"invoice\": {\n",
    "        \"date\": \"2015-06-11\",\n",
    "        \"number\": 35,\n",
    "        \"total_amount\": 1450,\n",
    "        \"items\": [\n",
    "            {\"item_name\": u\"Powdered water (kg)\", \"quantity\": 1, \"price\": 450},\n",
    "            {\"item_name\": u\"Solid vaccum (m³)\", \"quantity\": 2, \"price\": 500},\n",
    "        ],\n",
    "    },\n",
    "}\n",
    "print invoice[\"invoice\"][\"items\"][1][\"item_name\"]"
   ]
  },
  {
   "cell_type": "markdown",
   "metadata": {},
   "source": [
    "### #7"
   ]
  },
  {
   "cell_type": "code",
   "execution_count": 12,
   "metadata": {
    "collapsed": false
   },
   "outputs": [
    {
     "name": "stdout",
     "output_type": "stream",
     "text": [
      "a {1: '', 2: '', 3: '', 4: '', 5: '', 6: '', 7: '', 8: ''}\n",
      "c {1: '', 2: '', 3: '', 4: '', 5: '', 6: '', 7: '', 8: ''}\n",
      "b {1: '', 2: '', 3: '', 4: 'Pawn', 5: '', 6: '', 7: '', 8: ''}\n",
      "e {1: '', 2: '', 3: '', 4: '', 5: '', 6: '', 7: '', 8: ''}\n",
      "d {1: '', 2: '', 3: '', 4: '', 5: '', 6: '', 7: '', 8: 'Queen'}\n",
      "g {1: '', 2: '', 3: '', 4: '', 5: '', 6: '', 7: '', 8: ''}\n",
      "f {1: '', 2: '', 3: 'Knight', 4: '', 5: '', 6: '', 7: '', 8: ''}\n",
      "h {1: '', 2: '', 3: '', 4: '', 5: '', 6: '', 7: '', 8: ''}\n"
     ]
    }
   ],
   "source": [
    "# Definition of the pieces\n",
    "KI = \"King\"\n",
    "Q = \"Queen\"\n",
    "R = \"Rook\"\n",
    "KN = \"Knight\"\n",
    "B = \"Bishop\"\n",
    "P = \"Pawn\"\n",
    "\n",
    "# Chessboard structure\n",
    "alpha = list(\"abcdefgh\")\n",
    "num = range(1, 9)[::-1]\n",
    "chessboard = {}\n",
    "for a in alpha:\n",
    "    chessboard[a] = {}\n",
    "    for n in num:\n",
    "        chessboard[a][n] = \"\"\n",
    "        \n",
    "# Set up some pieces\n",
    "chessboard[\"b\"][4] = P\n",
    "chessboard[\"f\"][3] = KN\n",
    "chessboard[\"d\"][8] = Q\n",
    "\n",
    "for k, v in chessboard.items():\n",
    "    print k, v"
   ]
  },
  {
   "cell_type": "code",
   "execution_count": null,
   "metadata": {
    "collapsed": true
   },
   "outputs": [],
   "source": []
  }
 ],
 "metadata": {
  "celltoolbar": "Slideshow",
  "kernelspec": {
   "display_name": "Python 2",
   "language": "python",
   "name": "python2"
  },
  "language_info": {
   "codemirror_mode": {
    "name": "ipython",
    "version": 2
   },
   "file_extension": ".py",
   "mimetype": "text/x-python",
   "name": "python",
   "nbconvert_exporter": "python",
   "pygments_lexer": "ipython2",
   "version": "2.7.10"
  }
 },
 "nbformat": 4,
 "nbformat_minor": 0
}
